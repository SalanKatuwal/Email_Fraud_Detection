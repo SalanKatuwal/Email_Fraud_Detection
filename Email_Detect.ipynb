{
 "cells": [
  {
   "cell_type": "code",
   "execution_count": 1,
   "id": "acf77b9d-6717-4aa1-845b-acf762e65c0e",
   "metadata": {},
   "outputs": [],
   "source": [
    "#import the necessary libraries\n",
    "import numpy as np\n",
    "import pandas as pd\n",
    "from sklearn.model_selection import train_test_split\n",
    "from sklearn.metrics import accuracy_score,precision_score,confusion_matrix\n",
    "from sklearn.linear_model import LogisticRegression"
   ]
  },
  {
   "cell_type": "code",
   "execution_count": 2,
   "id": "a3722261-bba6-4691-91cc-a04457742fcc",
   "metadata": {},
   "outputs": [
    {
     "data": {
      "text/html": [
       "<div>\n",
       "<style scoped>\n",
       "    .dataframe tbody tr th:only-of-type {\n",
       "        vertical-align: middle;\n",
       "    }\n",
       "\n",
       "    .dataframe tbody tr th {\n",
       "        vertical-align: top;\n",
       "    }\n",
       "\n",
       "    .dataframe thead th {\n",
       "        text-align: right;\n",
       "    }\n",
       "</style>\n",
       "<table border=\"1\" class=\"dataframe\">\n",
       "  <thead>\n",
       "    <tr style=\"text-align: right;\">\n",
       "      <th></th>\n",
       "      <th>Category</th>\n",
       "      <th>Message</th>\n",
       "    </tr>\n",
       "  </thead>\n",
       "  <tbody>\n",
       "    <tr>\n",
       "      <th>0</th>\n",
       "      <td>ham</td>\n",
       "      <td>Go until jurong point, crazy.. Available only ...</td>\n",
       "    </tr>\n",
       "    <tr>\n",
       "      <th>1</th>\n",
       "      <td>ham</td>\n",
       "      <td>Ok lar... Joking wif u oni...</td>\n",
       "    </tr>\n",
       "    <tr>\n",
       "      <th>2</th>\n",
       "      <td>spam</td>\n",
       "      <td>Free entry in 2 a wkly comp to win FA Cup fina...</td>\n",
       "    </tr>\n",
       "    <tr>\n",
       "      <th>3</th>\n",
       "      <td>ham</td>\n",
       "      <td>U dun say so early hor... U c already then say...</td>\n",
       "    </tr>\n",
       "    <tr>\n",
       "      <th>4</th>\n",
       "      <td>ham</td>\n",
       "      <td>Nah I don't think he goes to usf, he lives aro...</td>\n",
       "    </tr>\n",
       "  </tbody>\n",
       "</table>\n",
       "</div>"
      ],
      "text/plain": [
       "  Category                                            Message\n",
       "0      ham  Go until jurong point, crazy.. Available only ...\n",
       "1      ham                      Ok lar... Joking wif u oni...\n",
       "2     spam  Free entry in 2 a wkly comp to win FA Cup fina...\n",
       "3      ham  U dun say so early hor... U c already then say...\n",
       "4      ham  Nah I don't think he goes to usf, he lives aro..."
      ]
     },
     "execution_count": 2,
     "metadata": {},
     "output_type": "execute_result"
    }
   ],
   "source": [
    "#this is the dataset which is availabe in my github repo\n",
    "df=pd.read_csv('mail_data.csv')\n",
    "df.head()"
   ]
  },
  {
   "cell_type": "code",
   "execution_count": 3,
   "id": "1f29ead9-2116-479c-bb87-48961c32bd03",
   "metadata": {},
   "outputs": [
    {
     "data": {
      "text/plain": [
       "Category    0\n",
       "Message     0\n",
       "dtype: int64"
      ]
     },
     "execution_count": 3,
     "metadata": {},
     "output_type": "execute_result"
    }
   ],
   "source": [
    "#check if the dataset contains any null value\n",
    "df.isnull().sum()"
   ]
  },
  {
   "cell_type": "code",
   "execution_count": 4,
   "id": "f3c7a270-40ee-4893-b682-a436c11b4605",
   "metadata": {},
   "outputs": [
    {
     "data": {
      "text/plain": [
       "415"
      ]
     },
     "execution_count": 4,
     "metadata": {},
     "output_type": "execute_result"
    }
   ],
   "source": [
    "#check if there is any duplicates value in the dataset\n",
    "df.duplicated().sum()"
   ]
  },
  {
   "cell_type": "code",
   "execution_count": 5,
   "id": "d20eb54d-cab5-45b4-8445-f86fd0700212",
   "metadata": {},
   "outputs": [],
   "source": [
    "# drop the duplicates value from the dataset\n",
    "df=df.drop_duplicates(keep='first')"
   ]
  },
  {
   "cell_type": "code",
   "execution_count": 6,
   "id": "51cc18cf-218c-44b3-bf68-369f27a3dec7",
   "metadata": {},
   "outputs": [
    {
     "data": {
      "text/html": [
       "<div>\n",
       "<style scoped>\n",
       "    .dataframe tbody tr th:only-of-type {\n",
       "        vertical-align: middle;\n",
       "    }\n",
       "\n",
       "    .dataframe tbody tr th {\n",
       "        vertical-align: top;\n",
       "    }\n",
       "\n",
       "    .dataframe thead th {\n",
       "        text-align: right;\n",
       "    }\n",
       "</style>\n",
       "<table border=\"1\" class=\"dataframe\">\n",
       "  <thead>\n",
       "    <tr style=\"text-align: right;\">\n",
       "      <th></th>\n",
       "      <th>Category</th>\n",
       "      <th>Message</th>\n",
       "    </tr>\n",
       "  </thead>\n",
       "  <tbody>\n",
       "    <tr>\n",
       "      <th>0</th>\n",
       "      <td>ham</td>\n",
       "      <td>Go until jurong point, crazy.. Available only ...</td>\n",
       "    </tr>\n",
       "    <tr>\n",
       "      <th>1</th>\n",
       "      <td>ham</td>\n",
       "      <td>Ok lar... Joking wif u oni...</td>\n",
       "    </tr>\n",
       "    <tr>\n",
       "      <th>2</th>\n",
       "      <td>spam</td>\n",
       "      <td>Free entry in 2 a wkly comp to win FA Cup fina...</td>\n",
       "    </tr>\n",
       "    <tr>\n",
       "      <th>3</th>\n",
       "      <td>ham</td>\n",
       "      <td>U dun say so early hor... U c already then say...</td>\n",
       "    </tr>\n",
       "    <tr>\n",
       "      <th>4</th>\n",
       "      <td>ham</td>\n",
       "      <td>Nah I don't think he goes to usf, he lives aro...</td>\n",
       "    </tr>\n",
       "  </tbody>\n",
       "</table>\n",
       "</div>"
      ],
      "text/plain": [
       "  Category                                            Message\n",
       "0      ham  Go until jurong point, crazy.. Available only ...\n",
       "1      ham                      Ok lar... Joking wif u oni...\n",
       "2     spam  Free entry in 2 a wkly comp to win FA Cup fina...\n",
       "3      ham  U dun say so early hor... U c already then say...\n",
       "4      ham  Nah I don't think he goes to usf, he lives aro..."
      ]
     },
     "execution_count": 6,
     "metadata": {},
     "output_type": "execute_result"
    }
   ],
   "source": [
    "df.head()"
   ]
  },
  {
   "cell_type": "code",
   "execution_count": 7,
   "id": "039bf52e-cb52-4598-aa17-324b0023331e",
   "metadata": {},
   "outputs": [],
   "source": [
    "# Assign spam to 1 and ham to 0 \n",
    "df.loc[df[\"Category\"]==\"ham\",\"Category\"]=0\n",
    "df.loc[df[\"Category\"]==\"spam\",\"Category\"]=1"
   ]
  },
  {
   "cell_type": "code",
   "execution_count": 8,
   "id": "eb86594f-bce5-4e31-a101-e1fa63729d30",
   "metadata": {},
   "outputs": [
    {
     "data": {
      "text/html": [
       "<div>\n",
       "<style scoped>\n",
       "    .dataframe tbody tr th:only-of-type {\n",
       "        vertical-align: middle;\n",
       "    }\n",
       "\n",
       "    .dataframe tbody tr th {\n",
       "        vertical-align: top;\n",
       "    }\n",
       "\n",
       "    .dataframe thead th {\n",
       "        text-align: right;\n",
       "    }\n",
       "</style>\n",
       "<table border=\"1\" class=\"dataframe\">\n",
       "  <thead>\n",
       "    <tr style=\"text-align: right;\">\n",
       "      <th></th>\n",
       "      <th>Category</th>\n",
       "      <th>Message</th>\n",
       "    </tr>\n",
       "  </thead>\n",
       "  <tbody>\n",
       "    <tr>\n",
       "      <th>0</th>\n",
       "      <td>0</td>\n",
       "      <td>Go until jurong point, crazy.. Available only ...</td>\n",
       "    </tr>\n",
       "    <tr>\n",
       "      <th>1</th>\n",
       "      <td>0</td>\n",
       "      <td>Ok lar... Joking wif u oni...</td>\n",
       "    </tr>\n",
       "    <tr>\n",
       "      <th>2</th>\n",
       "      <td>1</td>\n",
       "      <td>Free entry in 2 a wkly comp to win FA Cup fina...</td>\n",
       "    </tr>\n",
       "    <tr>\n",
       "      <th>3</th>\n",
       "      <td>0</td>\n",
       "      <td>U dun say so early hor... U c already then say...</td>\n",
       "    </tr>\n",
       "    <tr>\n",
       "      <th>4</th>\n",
       "      <td>0</td>\n",
       "      <td>Nah I don't think he goes to usf, he lives aro...</td>\n",
       "    </tr>\n",
       "  </tbody>\n",
       "</table>\n",
       "</div>"
      ],
      "text/plain": [
       "  Category                                            Message\n",
       "0        0  Go until jurong point, crazy.. Available only ...\n",
       "1        0                      Ok lar... Joking wif u oni...\n",
       "2        1  Free entry in 2 a wkly comp to win FA Cup fina...\n",
       "3        0  U dun say so early hor... U c already then say...\n",
       "4        0  Nah I don't think he goes to usf, he lives aro..."
      ]
     },
     "execution_count": 8,
     "metadata": {},
     "output_type": "execute_result"
    }
   ],
   "source": [
    "df.head()"
   ]
  },
  {
   "cell_type": "code",
   "execution_count": 9,
   "id": "a69aa3ab-2865-4a6d-8f4e-34a0685467c4",
   "metadata": {},
   "outputs": [
    {
     "data": {
      "text/plain": [
       "Category\n",
       "0    4516\n",
       "1     641\n",
       "Name: count, dtype: int64"
      ]
     },
     "execution_count": 9,
     "metadata": {},
     "output_type": "execute_result"
    }
   ],
   "source": [
    "#check the no of spam and ham mails on the dataset\n",
    "df[\"Category\"].value_counts()"
   ]
  },
  {
   "cell_type": "code",
   "execution_count": 10,
   "id": "b0c56ee7-074e-411b-843a-cbece180822c",
   "metadata": {},
   "outputs": [],
   "source": [
    "# the dataset has imbalance data"
   ]
  },
  {
   "cell_type": "code",
   "execution_count": 11,
   "id": "63d0f269-01e0-4417-a1e0-7b9383794d53",
   "metadata": {},
   "outputs": [
    {
     "data": {
      "image/png": "[encoded data removed]",
      "text/plain": [
       "<Figure size 640x480 with 1 Axes>"
      ]
     },
     "metadata": {},
     "output_type": "display_data"
    }
   ],
   "source": [
    "# view the distributio of ham and spam data in the piechart\n",
    "import matplotlib.pyplot as plt\n",
    "plt.pie(df[\"Category\"].value_counts(),labels=[\"ham\",\"spam\"],autopct=\"%.02f\")\n",
    "plt.show()"
   ]
  },
  {
   "cell_type": "code",
   "execution_count": 12,
   "id": "3b89a4b4-28e7-4d50-bc8c-f4de8a63b0cb",
   "metadata": {},
   "outputs": [
    {
     "name": "stderr",
     "output_type": "stream",
     "text": [
      "[nltk_data] Downloading package punkt to C:\\Users\\salan\n",
      "[nltk_data]     katwal\\AppData\\Roaming\\nltk_data...\n",
      "[nltk_data]   Package punkt is already up-to-date!\n",
      "[nltk_data] Downloading package punkt_tab to C:\\Users\\salan\n",
      "[nltk_data]     katwal\\AppData\\Roaming\\nltk_data...\n",
      "[nltk_data]   Package punkt_tab is already up-to-date!\n",
      "[nltk_data] Downloading package stopwords to C:\\Users\\salan\n",
      "[nltk_data]     katwal\\AppData\\Roaming\\nltk_data...\n",
      "[nltk_data]   Package stopwords is already up-to-date!\n"
     ]
    },
    {
     "data": {
      "text/plain": [
       "True"
      ]
     },
     "execution_count": 12,
     "metadata": {},
     "output_type": "execute_result"
    }
   ],
   "source": [
    "# import nltk(natural language toolkit) libary \n",
    "import nltk\n",
    "nltk.download(\"punkt\")\n",
    "nltk.download(\"punkt_tab\")\n",
    "nltk.download(\"stopwords\")"
   ]
  },
  {
   "cell_type": "code",
   "execution_count": 13,
   "id": "507a1a27-7d35-4aac-9ff6-277b243d8f65",
   "metadata": {},
   "outputs": [],
   "source": [
    "# Data PreProcessing to make data more revelant for the model\n",
    "#  1. LowerCase\n",
    "#   2. Tokenization\n",
    "#   3. Removing Special Character\n",
    "#   4. Removing stop words and punctuation\n",
    "#    5. Stemming"
   ]
  },
  {
   "cell_type": "code",
   "execution_count": 14,
   "id": "d81574c8-fac2-43bd-8faf-f5b3f3152df3",
   "metadata": {},
   "outputs": [],
   "source": [
    "# import the necessary libray for data pre processing\n",
    "import string\n",
    "from nltk.corpus import stopwords\n",
    "from nltk.stem.porter import PorterStemmer\n",
    "ps=PorterStemmer()"
   ]
  },
  {
   "cell_type": "code",
   "execution_count": 15,
   "id": "308ebc7e-8499-4997-abf9-66a7e49e423f",
   "metadata": {},
   "outputs": [],
   "source": [
    "def transform_text(text):\n",
    "    \n",
    "    # convert the text into lower case\n",
    "    text=text.lower()\n",
    "    \n",
    "    # separate the words and make the list\n",
    "    text=nltk.word_tokenize(text)\n",
    "    \n",
    "    # remove the special character\n",
    "    y=[]\n",
    "    for i in text:\n",
    "        if i.isalnum():\n",
    "            y.append(i)\n",
    "\n",
    "    # remove the stop words and punctuation\n",
    "    text=y[:]\n",
    "    y.clear()\n",
    "    for i in text:\n",
    "        if i not in stopwords.words('english') and i not in string.punctuation:\n",
    "            y.append(i)\n",
    "\n",
    "    # perform stemming like loving,loved,love will be converted to love\n",
    "    text=y[:]\n",
    "    y.clear()\n",
    "    for i in text:\n",
    "        y.append(ps.stem(i))\n",
    "\n",
    "    # return the text as a string\n",
    "    return \" \".join(y)"
   ]
  },
  {
   "cell_type": "code",
   "execution_count": null,
   "id": "9ff552b6-0cb1-47df-8657-bd38186349b2",
   "metadata": {},
   "outputs": [],
   "source": [
    "# transform the Message column of the dataset \n",
    "df[\"transformed_text\"]=df[\"Message\"].apply(transform_text)"
   ]
  },
  {
   "cell_type": "code",
   "execution_count": null,
   "id": "4e26836e-12e1-449c-81e3-2c9a0b10fb3e",
   "metadata": {},
   "outputs": [],
   "source": [
    "df.head()"
   ]
  },
  {
   "cell_type": "code",
   "execution_count": null,
   "id": "583e8fa1-dcb0-4ad4-bb3b-967ced1d93c7",
   "metadata": {},
   "outputs": [],
   "source": [
    "# let's visualize the most repeated words for ham and spam \n",
    "from wordcloud import WordCloud\n",
    "wc=WordCloud(width=500,height=500,min_font_size=10)"
   ]
  },
  {
   "cell_type": "code",
   "execution_count": null,
   "id": "a21fe004-47b4-44ca-9b01-f08db2fee67d",
   "metadata": {},
   "outputs": [],
   "source": [
    "spam_wc=wc.generate(df[df[\"Category\"]==1][\"transformed_text\"].str.cat(sep=\"\"))\n",
    "print(\"The most repeated words for spam\")\n",
    "plt.imshow(spam_wc)"
   ]
  },
  {
   "cell_type": "code",
   "execution_count": null,
   "id": "3d6a47d0-10d1-4701-a7a5-c493222e39cf",
   "metadata": {},
   "outputs": [],
   "source": [
    "ham_wc=wc.generate(df[df[\"Category\"]==0][\"transformed_text\"].str.cat(sep=\"\"))\n",
    "print(\"The most repeated words for ham\")\n",
    "plt.imshow(ham_wc)"
   ]
  },
  {
   "cell_type": "markdown",
   "id": "e100df4f-6090-486c-b9cd-0dfd2ef45913",
   "metadata": {},
   "source": [
    "# Model Building"
   ]
  },
  {
   "cell_type": "code",
   "execution_count": null,
   "id": "3ca6de97-195f-47aa-9868-f84b2273b4b4",
   "metadata": {},
   "outputs": [],
   "source": [
    "# particulary for classfication with text documnets we must convert the text documents into numbers to \n",
    "# allow our model to train it so we import CountVectorizer and TfidfVectorizer \n",
    "from sklearn.feature_extraction.text import CountVectorizer,TfidfVectorizer\n",
    "cv=CountVectorizer()\n",
    "tfidf=TfidfVectorizer(max_features=4200)"
   ]
  },
  {
   "cell_type": "code",
   "execution_count": null,
   "id": "1dd62f19-6b6e-41fe-bab1-9bcaa660ca90",
   "metadata": {},
   "outputs": [],
   "source": [
    "# i have tested with both CountVectorizer and TfidfVectorizer but TfidfVectorizer works better\n",
    "# Prepare the data for splitting into training and testing set\n",
    "X=tfidf.fit_transform(df[\"transformed_text\"]).toarray()\n",
    "print(X.shape)\n",
    "y=df[\"Category\"].values\n",
    "# since the data in the y series are not in int so we convert it into integer\n",
    "y=y.astype('int')\n",
    "y.dtype"
   ]
  },
  {
   "cell_type": "code",
   "execution_count": null,
   "id": "8fe48818-9672-4ec5-ac4a-b881e07dfb2b",
   "metadata": {},
   "outputs": [],
   "source": [
    "# split the dataset into training and testing dataset\n",
    "X_train,X_test,y_train,y_test=train_test_split(X,y,test_size=0.2,random_state=42)"
   ]
  },
  {
   "cell_type": "code",
   "execution_count": null,
   "id": "abf42e2f-aef8-4c64-a301-4300a8011b8c",
   "metadata": {},
   "outputs": [],
   "source": [
    "# so we first try with naive_bayes as it is good with classification problem\n",
    "from sklearn.naive_bayes import GaussianNB,MultinomialNB,BernoulliNB\n",
    "\n",
    "# Initialize the model\n",
    "gnb=GaussianNB()\n",
    "mnb=MultinomialNB()\n",
    "bnb=BernoulliNB()"
   ]
  },
  {
   "cell_type": "code",
   "execution_count": null,
   "id": "75a70d15-117f-48fb-9ebc-e247310d97ec",
   "metadata": {},
   "outputs": [],
   "source": [
    "# fit the data using GaussianNB and check the accuracy_score, precision_score and look the confusion matrix\n",
    "gnb.fit(X_train,y_train)\n",
    "y_pred1=gnb.predict(X_test)\n",
    "print(accuracy_score(y_test,y_pred1))\n",
    "print(precision_score(y_test,y_pred1))\n",
    "print(confusion_matrix(y_test,y_pred1))"
   ]
  },
  {
   "cell_type": "code",
   "execution_count": null,
   "id": "53a474be-ca8a-4552-9ce3-d0b45a9fa49b",
   "metadata": {},
   "outputs": [],
   "source": [
    "# fit the data using MultinomialNB and check the accuracy_score, precision_score and look the confusion matrix\n",
    "mnb.fit(X_train,y_train)\n",
    "y_pred2=mnb.predict(X_test)\n",
    "print(accuracy_score(y_test,y_pred2))\n",
    "print(precision_score(y_test,y_pred2))\n",
    "print(confusion_matrix(y_test,y_pred2))"
   ]
  },
  {
   "cell_type": "code",
   "execution_count": null,
   "id": "52143e7a-287d-4367-9653-0be9d6deb975",
   "metadata": {},
   "outputs": [],
   "source": [
    "# fit the data using BernoulliNB() and check the accuracy_score, precision_score and look the confusion matrix\n",
    "bnb.fit(X_train,y_train)\n",
    "y_pred3=mnb.predict(X_test)\n",
    "print(accuracy_score(y_test,y_pred3))\n",
    "print(precision_score(y_test,y_pred3))\n",
    "print(confusion_matrix(y_test,y_pred3))"
   ]
  },
  {
   "cell_type": "code",
   "execution_count": null,
   "id": "ca9e6fb4-f60e-42b2-beb8-01e9eff3c21b",
   "metadata": {},
   "outputs": [],
   "source": [
    "# Our BernoulliNB and MultinomialNB seems to have accuracy_score and precision_score of 1.0 which is very good\n",
    "# But let's check other model also\n",
    "# so we use LogiscticRegression \n",
    "model=LogisticRegression()\n",
    "model.fit(X_train,y_train)\n",
    "y_pred4=model.predict(X_test)\n",
    "print(accuracy_score(y_test,y_pred4))\n",
    "print(precision_score(y_test,y_pred4))\n",
    "print(confusion_matrix(y_test,y_pred4))"
   ]
  },
  {
   "cell_type": "code",
   "execution_count": null,
   "id": "ba2f0663-6dc4-484f-b5e6-d74b14656dfb",
   "metadata": {},
   "outputs": [],
   "source": [
    "# let's check with RamdomForestClassifier\n",
    "from sklearn.ensemble import RandomForestClassifier\n",
    "rfc=RandomForestClassifier(n_estimators=100,random_state=20)\n",
    "rfc.fit(X_train,y_train)\n",
    "y_pred5=rfc.predict(X_test)\n",
    "print(accuracy_score(y_test,y_pred5))\n",
    "print(precision_score(y_test,y_pred5))\n",
    "print(confusion_matrix(y_test,y_pred5))"
   ]
  },
  {
   "cell_type": "markdown",
   "id": "f5511708-3f01-42fc-b9ca-b3fe550c3ce5",
   "metadata": {},
   "source": [
    "# Although you can use GridSearchCV to select the best parameters and model but i like to use different model manullay and train the data"
   ]
  },
  {
   "cell_type": "markdown",
   "id": "abb8a8a5-f867-4844-ab3b-12184ef429f8",
   "metadata": {},
   "source": [
    "# As we can see BernoulliNB and MultinomialNB are performing well among all the model so we will use MultinomialNB model"
   ]
  },
  {
   "cell_type": "code",
   "execution_count": null,
   "id": "50ef02e6-95ac-4726-b652-b9dab346d9dd",
   "metadata": {},
   "outputs": [],
   "source": [
    "# lets see with real life example to test the model\n",
    "email=\"\"\"A [redacted] loan is approved for you if you recieve this sms. 1 min verification and cash in 1 hr in\n",
    "www.[redacted].co.uk to opt out reply stop\n",
    "\"\"\"\n",
    "\n",
    "# transform the input\n",
    "input_text= transform_text(email)\n",
    "print(input_text)"
   ]
  },
  {
   "cell_type": "code",
   "execution_count": null,
   "id": "dde4c108-71de-475c-9de8-149cb6b088e1",
   "metadata": {},
   "outputs": [],
   "source": [
    "# vectorize the input\n",
    "input_transform=tfidf.transform([input_text]).toarray()\n",
    "print(input_transform)\n",
    "print(input_transform.shape)"
   ]
  },
  {
   "cell_type": "code",
   "execution_count": null,
   "id": "8929a375-2b89-4917-abac-5ccc70381a7b",
   "metadata": {},
   "outputs": [],
   "source": [
    "# and finally predict the model\n",
    "spam_prediction=mnb.predict(input_transform)\n",
    "if spam_prediction==1:\n",
    "    print(\"Spam\")\n",
    "else:\n",
    "    print(\"Not spam\")"
   ]
  },
  {
   "cell_type": "code",
   "execution_count": null,
   "id": "ccff1fab-cbd3-4d5b-9013-84690e74fb13",
   "metadata": {},
   "outputs": [],
   "source": [
    "# export the model (mnb) and vectorizer function to used on Streamlit Server\n",
    "import pickle\n",
    "pickle.dump(tfidf,open(\"Vectorizer.pkl\",'wb'))\n",
    "pickle.dump(mnb,open('mnb.pkl','wb'))"
   ]
  },
  {
   "cell_type": "code",
   "execution_count": null,
   "id": "dc28c0d6-82dd-430b-8598-fbd5758d2678",
   "metadata": {},
   "outputs": [],
   "source": []
  }
 ],
 "metadata": {
  "kernelspec": {
   "display_name": "Python 3 (ipykernel)",
   "language": "python",
   "name": "python3"
  },
  "language_info": {
   "codemirror_mode": {
    "name": "ipython",
    "version": 3
   },
   "file_extension": ".py",
   "mimetype": "text/x-python",
   "name": "python",
   "nbconvert_exporter": "python",
   "pygments_lexer": "ipython3",
   "version": "3.12.1"
  }
 },
 "nbformat": 4,
 "nbformat_minor": 5
}
